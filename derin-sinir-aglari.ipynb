{
 "cells": [
  {
   "cell_type": "code",
   "execution_count": 1,
   "id": "4e5ce43f",
   "metadata": {
    "execution": {
     "iopub.execute_input": "2022-06-20T16:10:29.113189Z",
     "iopub.status.busy": "2022-06-20T16:10:29.112130Z",
     "iopub.status.idle": "2022-06-20T16:10:35.323907Z",
     "shell.execute_reply": "2022-06-20T16:10:35.323042Z"
    },
    "papermill": {
     "duration": 6.219266,
     "end_time": "2022-06-20T16:10:35.326340",
     "exception": false,
     "start_time": "2022-06-20T16:10:29.107074",
     "status": "completed"
    },
    "tags": []
   },
   "outputs": [
    {
     "name": "stdout",
     "output_type": "stream",
     "text": [
      "Downloading data from https://storage.googleapis.com/tensorflow/tf-keras-datasets/mnist.npz\n",
      "11493376/11490434 [==============================] - 0s 0us/step\n",
      "11501568/11490434 [==============================] - 0s 0us/step\n"
     ]
    }
   ],
   "source": [
    "import tensorflow as tf\n",
    "(x_train, y_train), (x_test, y_test) = tf.keras.datasets.mnist.load_data()"
   ]
  },
  {
   "cell_type": "code",
   "execution_count": 2,
   "id": "663bf801",
   "metadata": {
    "execution": {
     "iopub.execute_input": "2022-06-20T16:10:35.334181Z",
     "iopub.status.busy": "2022-06-20T16:10:35.333623Z",
     "iopub.status.idle": "2022-06-20T16:10:35.524990Z",
     "shell.execute_reply": "2022-06-20T16:10:35.524090Z"
    },
    "papermill": {
     "duration": 0.197323,
     "end_time": "2022-06-20T16:10:35.527075",
     "exception": false,
     "start_time": "2022-06-20T16:10:35.329752",
     "status": "completed"
    },
    "tags": []
   },
   "outputs": [
    {
     "name": "stdout",
     "output_type": "stream",
     "text": [
      "8\n"
     ]
    },
    {
     "data": {
      "text/plain": [
       "<matplotlib.image.AxesImage at 0x7f2b6e847690>"
      ]
     },
     "execution_count": 2,
     "metadata": {},
     "output_type": "execute_result"
    },
    {
     "data": {
      "image/png": "[encoded data removed]",
      "text/plain": [
       "<Figure size 432x288 with 1 Axes>"
      ]
     },
     "metadata": {
      "needs_background": "light"
     },
     "output_type": "display_data"
    }
   ],
   "source": [
    "import matplotlib.pyplot as plt\n",
    "\n",
    "image_index = 7777 # You may select anything up to 60,000\n",
    "print(y_train[image_index]) # The label is 8\n",
    "plt.imshow(x_train[image_index], cmap='Greys')"
   ]
  },
  {
   "cell_type": "code",
   "execution_count": 3,
   "id": "bf487f00",
   "metadata": {
    "execution": {
     "iopub.execute_input": "2022-06-20T16:10:35.535392Z",
     "iopub.status.busy": "2022-06-20T16:10:35.534673Z",
     "iopub.status.idle": "2022-06-20T16:10:35.540934Z",
     "shell.execute_reply": "2022-06-20T16:10:35.540096Z"
    },
    "papermill": {
     "duration": 0.01234,
     "end_time": "2022-06-20T16:10:35.542821",
     "exception": false,
     "start_time": "2022-06-20T16:10:35.530481",
     "status": "completed"
    },
    "tags": []
   },
   "outputs": [
    {
     "data": {
      "text/plain": [
       "(60000, 28, 28)"
      ]
     },
     "execution_count": 3,
     "metadata": {},
     "output_type": "execute_result"
    }
   ],
   "source": [
    "x_train.shape"
   ]
  },
  {
   "cell_type": "code",
   "execution_count": 4,
   "id": "d247a172",
   "metadata": {
    "execution": {
     "iopub.execute_input": "2022-06-20T16:10:35.550737Z",
     "iopub.status.busy": "2022-06-20T16:10:35.550464Z",
     "iopub.status.idle": "2022-06-20T16:10:35.632787Z",
     "shell.execute_reply": "2022-06-20T16:10:35.631939Z"
    },
    "papermill": {
     "duration": 0.088556,
     "end_time": "2022-06-20T16:10:35.634853",
     "exception": false,
     "start_time": "2022-06-20T16:10:35.546297",
     "status": "completed"
    },
    "tags": []
   },
   "outputs": [
    {
     "name": "stdout",
     "output_type": "stream",
     "text": [
      "x_train shape: (60000, 28, 28, 1)\n",
      "Number of images in x_train 60000\n",
      "Number of images in x_test 10000\n"
     ]
    }
   ],
   "source": [
    "# Reshaping the array to 4-dims so that it can work with the Keras API\n",
    "x_train = x_train.reshape(x_train.shape[0], 28, 28, 1)\n",
    "x_test = x_test.reshape(x_test.shape[0], 28, 28, 1)\n",
    "input_shape = (28, 28, 1)\n",
    "# Making sure that the values are float so that we can get decimal points after division\n",
    "x_train = x_train.astype('float32')\n",
    "x_test = x_test.astype('float32')\n",
    "# Normalizing the RGB codes by dividing it to the max RGB value.\n",
    "x_train /= 255\n",
    "x_test /= 255\n",
    "print('x_train shape:', x_train.shape)\n",
    "print('Number of images in x_train', x_train.shape[0])\n",
    "print('Number of images in x_test', x_test.shape[0])"
   ]
  },
  {
   "cell_type": "code",
   "execution_count": 5,
   "id": "0b4734f5",
   "metadata": {
    "execution": {
     "iopub.execute_input": "2022-06-20T16:10:35.643854Z",
     "iopub.status.busy": "2022-06-20T16:10:35.643321Z",
     "iopub.status.idle": "2022-06-20T16:10:38.516266Z",
     "shell.execute_reply": "2022-06-20T16:10:38.515452Z"
    },
    "papermill": {
     "duration": 2.879711,
     "end_time": "2022-06-20T16:10:38.518582",
     "exception": false,
     "start_time": "2022-06-20T16:10:35.638871",
     "status": "completed"
    },
    "tags": []
   },
   "outputs": [
    {
     "name": "stderr",
     "output_type": "stream",
     "text": [
      "2022-06-20 16:10:35.731666: I tensorflow/stream_executor/cuda/cuda_gpu_executor.cc:937] successful NUMA node read from SysFS had negative value (-1), but there must be at least one NUMA node, so returning NUMA node zero\n",
      "2022-06-20 16:10:35.836715: I tensorflow/stream_executor/cuda/cuda_gpu_executor.cc:937] successful NUMA node read from SysFS had negative value (-1), but there must be at least one NUMA node, so returning NUMA node zero\n",
      "2022-06-20 16:10:35.837558: I tensorflow/stream_executor/cuda/cuda_gpu_executor.cc:937] successful NUMA node read from SysFS had negative value (-1), but there must be at least one NUMA node, so returning NUMA node zero\n",
      "2022-06-20 16:10:35.838826: I tensorflow/core/platform/cpu_feature_guard.cc:142] This TensorFlow binary is optimized with oneAPI Deep Neural Network Library (oneDNN) to use the following CPU instructions in performance-critical operations:  AVX2 AVX512F FMA\n",
      "To enable them in other operations, rebuild TensorFlow with the appropriate compiler flags.\n",
      "2022-06-20 16:10:35.839192: I tensorflow/stream_executor/cuda/cuda_gpu_executor.cc:937] successful NUMA node read from SysFS had negative value (-1), but there must be at least one NUMA node, so returning NUMA node zero\n",
      "2022-06-20 16:10:35.839992: I tensorflow/stream_executor/cuda/cuda_gpu_executor.cc:937] successful NUMA node read from SysFS had negative value (-1), but there must be at least one NUMA node, so returning NUMA node zero\n",
      "2022-06-20 16:10:35.840740: I tensorflow/stream_executor/cuda/cuda_gpu_executor.cc:937] successful NUMA node read from SysFS had negative value (-1), but there must be at least one NUMA node, so returning NUMA node zero\n",
      "2022-06-20 16:10:37.975958: I tensorflow/stream_executor/cuda/cuda_gpu_executor.cc:937] successful NUMA node read from SysFS had negative value (-1), but there must be at least one NUMA node, so returning NUMA node zero\n",
      "2022-06-20 16:10:37.976843: I tensorflow/stream_executor/cuda/cuda_gpu_executor.cc:937] successful NUMA node read from SysFS had negative value (-1), but there must be at least one NUMA node, so returning NUMA node zero\n",
      "2022-06-20 16:10:37.977625: I tensorflow/stream_executor/cuda/cuda_gpu_executor.cc:937] successful NUMA node read from SysFS had negative value (-1), but there must be at least one NUMA node, so returning NUMA node zero\n",
      "2022-06-20 16:10:37.978304: I tensorflow/core/common_runtime/gpu/gpu_device.cc:1510] Created device /job:localhost/replica:0/task:0/device:GPU:0 with 15403 MB memory:  -> device: 0, name: Tesla P100-PCIE-16GB, pci bus id: 0000:00:04.0, compute capability: 6.0\n"
     ]
    }
   ],
   "source": [
    "# Importing the required Keras modules containing model and layers\n",
    "from tensorflow.keras.models import Sequential\n",
    "from tensorflow.keras.layers import Dense, Conv2D, Dropout, Flatten, MaxPooling2D\n",
    "# Creating a Sequential Model and adding the layers\n",
    "model = Sequential()\n",
    "model.add(Conv2D(28, kernel_size=(3,3), input_shape=input_shape))\n",
    "model.add(MaxPooling2D(pool_size=(2, 2)))\n",
    "model.add(Flatten()) # Flattening the 2D arrays for fully connected layers\n",
    "model.add(Dense(128, activation=tf.nn.relu))\n",
    "model.add(Dropout(0.2))\n",
    "model.add(Dense(10,activation=tf.nn.softmax))"
   ]
  },
  {
   "cell_type": "code",
   "execution_count": 6,
   "id": "40576300",
   "metadata": {
    "execution": {
     "iopub.execute_input": "2022-06-20T16:10:38.527784Z",
     "iopub.status.busy": "2022-06-20T16:10:38.527236Z",
     "iopub.status.idle": "2022-06-20T16:11:27.896995Z",
     "shell.execute_reply": "2022-06-20T16:11:27.896074Z"
    },
    "papermill": {
     "duration": 49.376497,
     "end_time": "2022-06-20T16:11:27.898930",
     "exception": false,
     "start_time": "2022-06-20T16:10:38.522433",
     "status": "completed"
    },
    "tags": []
   },
   "outputs": [
    {
     "name": "stderr",
     "output_type": "stream",
     "text": [
      "2022-06-20 16:10:38.925056: I tensorflow/compiler/mlir/mlir_graph_optimization_pass.cc:185] None of the MLIR Optimization Passes are enabled (registered 2)\n"
     ]
    },
    {
     "name": "stdout",
     "output_type": "stream",
     "text": [
      "Epoch 1/10\n"
     ]
    },
    {
     "name": "stderr",
     "output_type": "stream",
     "text": [
      "2022-06-20 16:10:40.127269: I tensorflow/stream_executor/cuda/cuda_dnn.cc:369] Loaded cuDNN version 8005\n"
     ]
    },
    {
     "name": "stdout",
     "output_type": "stream",
     "text": [
      "1875/1875 [==============================] - 11s 2ms/step - loss: 0.2143 - accuracy: 0.9348\n",
      "Epoch 2/10\n",
      "1875/1875 [==============================] - 4s 2ms/step - loss: 0.0877 - accuracy: 0.9729\n",
      "Epoch 3/10\n",
      "1875/1875 [==============================] - 4s 2ms/step - loss: 0.0604 - accuracy: 0.9809\n",
      "Epoch 4/10\n",
      "1875/1875 [==============================] - 4s 2ms/step - loss: 0.0458 - accuracy: 0.9853\n",
      "Epoch 5/10\n",
      "1875/1875 [==============================] - 4s 2ms/step - loss: 0.0355 - accuracy: 0.9883\n",
      "Epoch 6/10\n",
      "1875/1875 [==============================] - 5s 2ms/step - loss: 0.0315 - accuracy: 0.9893\n",
      "Epoch 7/10\n",
      "1875/1875 [==============================] - 4s 2ms/step - loss: 0.0257 - accuracy: 0.9910\n",
      "Epoch 8/10\n",
      "1875/1875 [==============================] - 4s 2ms/step - loss: 0.0223 - accuracy: 0.9926\n",
      "Epoch 9/10\n",
      "1875/1875 [==============================] - 4s 2ms/step - loss: 0.0205 - accuracy: 0.9928\n",
      "Epoch 10/10\n",
      "1875/1875 [==============================] - 4s 2ms/step - loss: 0.0187 - accuracy: 0.9937\n"
     ]
    },
    {
     "data": {
      "text/plain": [
       "<keras.callbacks.History at 0x7f2b6c2dcb10>"
      ]
     },
     "execution_count": 6,
     "metadata": {},
     "output_type": "execute_result"
    }
   ],
   "source": [
    "model.compile(optimizer='adam', \n",
    "              loss='sparse_categorical_crossentropy', \n",
    "              metrics=['accuracy'])\n",
    "model.fit(x=x_train,y=y_train, epochs=10)"
   ]
  },
  {
   "cell_type": "code",
   "execution_count": 7,
   "id": "2df87ef9",
   "metadata": {
    "execution": {
     "iopub.execute_input": "2022-06-20T16:11:28.020016Z",
     "iopub.status.busy": "2022-06-20T16:11:28.019173Z",
     "iopub.status.idle": "2022-06-20T16:11:28.893914Z",
     "shell.execute_reply": "2022-06-20T16:11:28.893086Z"
    },
    "papermill": {
     "duration": 0.93778,
     "end_time": "2022-06-20T16:11:28.895765",
     "exception": false,
     "start_time": "2022-06-20T16:11:27.957985",
     "status": "completed"
    },
    "tags": []
   },
   "outputs": [
    {
     "name": "stdout",
     "output_type": "stream",
     "text": [
      "313/313 [==============================] - 1s 2ms/step - loss: 0.0575 - accuracy: 0.9863\n"
     ]
    },
    {
     "data": {
      "text/plain": [
       "[0.05750267207622528, 0.986299991607666]"
      ]
     },
     "execution_count": 7,
     "metadata": {},
     "output_type": "execute_result"
    }
   ],
   "source": [
    "model.evaluate(x_test, y_test)"
   ]
  },
  {
   "cell_type": "code",
   "execution_count": 8,
   "id": "aa67af76",
   "metadata": {
    "execution": {
     "iopub.execute_input": "2022-06-20T16:11:29.010639Z",
     "iopub.status.busy": "2022-06-20T16:11:29.010275Z",
     "iopub.status.idle": "2022-06-20T16:11:29.323090Z",
     "shell.execute_reply": "2022-06-20T16:11:29.322196Z"
    },
    "papermill": {
     "duration": 0.372782,
     "end_time": "2022-06-20T16:11:29.325119",
     "exception": false,
     "start_time": "2022-06-20T16:11:28.952337",
     "status": "completed"
    },
    "tags": []
   },
   "outputs": [
    {
     "name": "stdout",
     "output_type": "stream",
     "text": [
      "7\n"
     ]
    },
    {
     "data": {
      "image/png": "[encoded data removed]",
      "text/plain": [
       "<Figure size 432x288 with 1 Axes>"
      ]
     },
     "metadata": {
      "needs_background": "light"
     },
     "output_type": "display_data"
    }
   ],
   "source": [
    "image_index = 0\n",
    "plt.imshow(x_test[image_index].reshape(28, 28),cmap='Greys')\n",
    "pred = model.predict(x_test[image_index].reshape(1, 28, 28, 1))\n",
    "print(pred.argmax())"
   ]
  }
 ],
 "metadata": {
  "kernelspec": {
   "display_name": "Python 3",
   "language": "python",
   "name": "python3"
  },
  "language_info": {
   "codemirror_mode": {
    "name": "ipython",
    "version": 3
   },
   "file_extension": ".py",
   "mimetype": "text/x-python",
   "name": "python",
   "nbconvert_exporter": "python",
   "pygments_lexer": "ipython3",
   "version": "3.7.12"
  },
  "papermill": {
   "default_parameters": {},
   "duration": 72.508627,
   "end_time": "2022-06-20T16:11:33.071645",
   "environment_variables": {},
   "exception": null,
   "input_path": "__notebook__.ipynb",
   "output_path": "__notebook__.ipynb",
   "parameters": {},
   "start_time": "2022-06-20T16:10:20.563018",
   "version": "2.3.4"
  }
 },
 "nbformat": 4,
 "nbformat_minor": 5
}
